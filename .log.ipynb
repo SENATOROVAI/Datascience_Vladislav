{
 "cells": [
  {
   "cell_type": "code",
   "execution_count": null,
   "metadata": {},
   "outputs": [],
   "source": [
    "\"\"\"Module of logging lessons.\"\"\""
   ]
  },
  {
   "cell_type": "markdown",
   "metadata": {},
   "source": [
    "# 30.04\n",
    "подключили линтеры для форматирования кода (Flake8, Black Format)\n",
    "разобрали взаимодействие с github (commit, pull)\n",
    "pull - вытаскивает изменения из удалённого репозитория\n",
    "pull request - добавить изменения из локальной ветки в основную\n",
    "\n",
    "pre-commit делаем для того, чтобы не сразу грузить код в прод\n",
    "\n",
    "Множество установок делали для того, чтобы правильно выгружать код и оптимательно с ним работать в проде \n",
    "(происходила какая-то магия)\n",
    "Открыл для себя Jupyter в Vs code\n",
    "\n",
    "Vs сode на мак: проблемы с коммитом, в процессе решения\n",
    "Материалы по матану в процессе сбора"
   ]
  }
 ],
 "metadata": {
  "language_info": {
   "name": "python"
  }
 },
 "nbformat": 4,
 "nbformat_minor": 2
}
