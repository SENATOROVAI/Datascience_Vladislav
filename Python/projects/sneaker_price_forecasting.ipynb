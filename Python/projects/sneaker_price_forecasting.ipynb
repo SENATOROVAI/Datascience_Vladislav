{
 "nbformat": 4,
 "nbformat_minor": 0,
 "metadata": {
  "colab": {
   "provenance": []
  },
  "kernelspec": {
   "name": "python3",
   "display_name": "Python 3"
  },
  "language_info": {
   "name": "python"
  }
 },
 "cells": [
  {
   "cell_type": "code",
   "execution_count": null,
   "metadata": {
    "colab": {
     "base_uri": "https://localhost:8080/"
    },
    "id": "OoL8VsMxkmKh",
    "outputId": "3da68d62-24bd-422c-e0c5-ee650134f5f7"
   },
   "outputs": [
    {
     "output_type": "stream",
     "name": "stdout",
     "text": [
      "Mounted at /content/gdrive\n"
     ]
    }
   ],
   "source": [
    "from google.colab import drive\n",
    "\n",
    "drive.mount(\"/content/gdrive\")"
   ]
  },
  {
   "cell_type": "code",
   "source": [
    "!ls /content/gdrive/MyDrive/ML"
   ],
   "metadata": {
    "colab": {
     "base_uri": "https://localhost:8080/"
    },
    "id": "mHKrwm3KlHUg",
    "outputId": "5f7e8cee-fee9-4347-afb3-b4598620c7c2"
   },
   "execution_count": null,
   "outputs": [
    {
     "output_type": "stream",
     "name": "stdout",
     "text": [
      "test.xlsx  train_presentation.xlsx\n"
     ]
    }
   ]
  },
  {
   "cell_type": "code",
   "source": [
    "pip install xlrd"
   ],
   "metadata": {
    "id": "62HoX-NqmCE1"
   },
   "execution_count": null,
   "outputs": []
  },
  {
   "cell_type": "code",
   "source": [
    "pip install --upgrade xlrd"
   ],
   "metadata": {
    "colab": {
     "base_uri": "https://localhost:8080/",
     "height": 277
    },
    "id": "AgKYzcAAm4ao",
    "outputId": "cab4bf4c-220d-4724-c00b-11f3a594afb9"
   },
   "execution_count": null,
   "outputs": [
    {
     "output_type": "stream",
     "name": "stdout",
     "text": [
      "Requirement already satisfied: xlrd in /usr/local/lib/python3.7/dist-packages (1.1.0)\n",
      "Collecting xlrd\n",
      "  Downloading xlrd-2.0.1-py2.py3-none-any.whl (96 kB)\n",
      "\u001b[K     |████████████████████████████████| 96 kB 4.7 MB/s \n",
      "\u001b[?25hInstalling collected packages: xlrd\n",
      "  Attempting uninstall: xlrd\n",
      "    Found existing installation: xlrd 1.1.0\n",
      "    Uninstalling xlrd-1.1.0:\n",
      "      Successfully uninstalled xlrd-1.1.0\n",
      "Successfully installed xlrd-2.0.1\n"
     ]
    },
    {
     "output_type": "display_data",
     "data": {
      "application/vnd.colab-display-data+json": {
       "pip_warning": {
        "packages": [
         "xlrd"
        ]
       }
      }
     },
     "metadata": {}
    }
   ]
  },
  {
   "cell_type": "code",
   "source": [
    "import pandas as pd"
   ],
   "metadata": {
    "id": "rAndsu5gli5r"
   },
   "execution_count": null,
   "outputs": []
  },
  {
   "cell_type": "code",
   "source": [
    "data = pd.read_excel(\"/content/gdrive/MyDrive/ML/train_presentation.xlsx\")"
   ],
   "metadata": {
    "id": "Sq5cko4LlmDY"
   },
   "execution_count": null,
   "outputs": []
  },
  {
   "cell_type": "code",
   "source": [
    "data.head()"
   ],
   "metadata": {
    "colab": {
     "base_uri": "https://localhost:8080/",
     "height": 478
    },
    "id": "VLdDTBtsnU8J",
    "outputId": "31ff9e4b-afe8-4eef-aad1-00ff74fbfb05"
   },
   "execution_count": null,
   "outputs": [
    {
     "output_type": "execute_result",
     "data": {
      "text/plain": [
       "    id                         name   brand categories  \\\n",
       "0  1.0         Nike Air Force 1 '07    Nike    Classic   \n",
       "1  2.0         Vans Slip-On Classic    Vans        Low   \n",
       "2  3.0  adidas Originals Stan Smith  Adidas    Classic   \n",
       "3  4.0           Asics Gel-Lyte III   Asics    Running   \n",
       "4  5.0                Reebok Club C  Reebok    Classic   \n",
       "\n",
       "                                           imageurls style quantities  \\\n",
       "0  https://sneakerfreak.ru/wp-content/uploads/202...   M&W    no data   \n",
       "1  https://sneakerfreak.ru/wp-content/uploads/202...   M&W    no data   \n",
       "2  https://sneakerfreak.ru/wp-content/uploads/202...   M&W    no data   \n",
       "3  https://sneakerfreak.ru/wp-content/uploads/202...   M&W    no data   \n",
       "4  https://sneakerfreak.ru/wp-content/uploads/202...   M&W    no data   \n",
       "\n",
       "     sizes  5_years_ago  3_years_ago  1 _year_ago  3_months_ago  1_month_ago  \\\n",
       "0  no data       9000.0      10000.0      10200.0       10200.0      10400.0   \n",
       "1  no data       5100.0       5100.0       5500.0        5800.0       5800.0   \n",
       "2  no data      10000.0       9500.0       9300.0        9300.0       8999.0   \n",
       "3  no data       5000.0       5500.0       6000.0        6500.0       6500.0   \n",
       "4  no data       8000.0       8000.0       8000.0        8300.0       8699.0   \n",
       "\n",
       "   corrent_price  data_start  earlier_sold  price next month  relevance  \n",
       "0        10499.0      2007.0         200.0           10700.0        1.0  \n",
       "1         6090.0      2004.0          60.0            6090.0        1.0  \n",
       "2         8999.0      2015.0          24.0            8500.0        0.0  \n",
       "3         6500.0      2008.0          78.0            6500.0        0.0  \n",
       "4         8699.0      2013.0          52.0            8699.0        1.0  "
      ],
      "text/html": [
       "\n",
       "  <div id=\"df-b9883365-8503-4351-a58e-541c3b01bcd5\">\n",
       "    <div class=\"colab-df-container\">\n",
       "      <div>\n",
       "<style scoped>\n",
       "    .dataframe tbody tr th:only-of-type {\n",
       "        vertical-align: middle;\n",
       "    }\n",
       "\n",
       "    .dataframe tbody tr th {\n",
       "        vertical-align: top;\n",
       "    }\n",
       "\n",
       "    .dataframe thead th {\n",
       "        text-align: right;\n",
       "    }\n",
       "</style>\n",
       "<table border=\"1\" class=\"dataframe\">\n",
       "  <thead>\n",
       "    <tr style=\"text-align: right;\">\n",
       "      <th></th>\n",
       "      <th>id</th>\n",
       "      <th>name</th>\n",
       "      <th>brand</th>\n",
       "      <th>categories</th>\n",
       "      <th>imageurls</th>\n",
       "      <th>style</th>\n",
       "      <th>quantities</th>\n",
       "      <th>sizes</th>\n",
       "      <th>5_years_ago</th>\n",
       "      <th>3_years_ago</th>\n",
       "      <th>1 _year_ago</th>\n",
       "      <th>3_months_ago</th>\n",
       "      <th>1_month_ago</th>\n",
       "      <th>corrent_price</th>\n",
       "      <th>data_start</th>\n",
       "      <th>earlier_sold</th>\n",
       "      <th>price next month</th>\n",
       "      <th>relevance</th>\n",
       "    </tr>\n",
       "  </thead>\n",
       "  <tbody>\n",
       "    <tr>\n",
       "      <th>0</th>\n",
       "      <td>1.0</td>\n",
       "      <td>Nike Air Force 1 '07</td>\n",
       "      <td>Nike</td>\n",
       "      <td>Classic</td>\n",
       "      <td>https://sneakerfreak.ru/wp-content/uploads/202...</td>\n",
       "      <td>M&amp;W</td>\n",
       "      <td>no data</td>\n",
       "      <td>no data</td>\n",
       "      <td>9000.0</td>\n",
       "      <td>10000.0</td>\n",
       "      <td>10200.0</td>\n",
       "      <td>10200.0</td>\n",
       "      <td>10400.0</td>\n",
       "      <td>10499.0</td>\n",
       "      <td>2007.0</td>\n",
       "      <td>200.0</td>\n",
       "      <td>10700.0</td>\n",
       "      <td>1.0</td>\n",
       "    </tr>\n",
       "    <tr>\n",
       "      <th>1</th>\n",
       "      <td>2.0</td>\n",
       "      <td>Vans Slip-On Classic</td>\n",
       "      <td>Vans</td>\n",
       "      <td>Low</td>\n",
       "      <td>https://sneakerfreak.ru/wp-content/uploads/202...</td>\n",
       "      <td>M&amp;W</td>\n",
       "      <td>no data</td>\n",
       "      <td>no data</td>\n",
       "      <td>5100.0</td>\n",
       "      <td>5100.0</td>\n",
       "      <td>5500.0</td>\n",
       "      <td>5800.0</td>\n",
       "      <td>5800.0</td>\n",
       "      <td>6090.0</td>\n",
       "      <td>2004.0</td>\n",
       "      <td>60.0</td>\n",
       "      <td>6090.0</td>\n",
       "      <td>1.0</td>\n",
       "    </tr>\n",
       "    <tr>\n",
       "      <th>2</th>\n",
       "      <td>3.0</td>\n",
       "      <td>adidas Originals Stan Smith</td>\n",
       "      <td>Adidas</td>\n",
       "      <td>Classic</td>\n",
       "      <td>https://sneakerfreak.ru/wp-content/uploads/202...</td>\n",
       "      <td>M&amp;W</td>\n",
       "      <td>no data</td>\n",
       "      <td>no data</td>\n",
       "      <td>10000.0</td>\n",
       "      <td>9500.0</td>\n",
       "      <td>9300.0</td>\n",
       "      <td>9300.0</td>\n",
       "      <td>8999.0</td>\n",
       "      <td>8999.0</td>\n",
       "      <td>2015.0</td>\n",
       "      <td>24.0</td>\n",
       "      <td>8500.0</td>\n",
       "      <td>0.0</td>\n",
       "    </tr>\n",
       "    <tr>\n",
       "      <th>3</th>\n",
       "      <td>4.0</td>\n",
       "      <td>Asics Gel-Lyte III</td>\n",
       "      <td>Asics</td>\n",
       "      <td>Running</td>\n",
       "      <td>https://sneakerfreak.ru/wp-content/uploads/202...</td>\n",
       "      <td>M&amp;W</td>\n",
       "      <td>no data</td>\n",
       "      <td>no data</td>\n",
       "      <td>5000.0</td>\n",
       "      <td>5500.0</td>\n",
       "      <td>6000.0</td>\n",
       "      <td>6500.0</td>\n",
       "      <td>6500.0</td>\n",
       "      <td>6500.0</td>\n",
       "      <td>2008.0</td>\n",
       "      <td>78.0</td>\n",
       "      <td>6500.0</td>\n",
       "      <td>0.0</td>\n",
       "    </tr>\n",
       "    <tr>\n",
       "      <th>4</th>\n",
       "      <td>5.0</td>\n",
       "      <td>Reebok Club C</td>\n",
       "      <td>Reebok</td>\n",
       "      <td>Classic</td>\n",
       "      <td>https://sneakerfreak.ru/wp-content/uploads/202...</td>\n",
       "      <td>M&amp;W</td>\n",
       "      <td>no data</td>\n",
       "      <td>no data</td>\n",
       "      <td>8000.0</td>\n",
       "      <td>8000.0</td>\n",
       "      <td>8000.0</td>\n",
       "      <td>8300.0</td>\n",
       "      <td>8699.0</td>\n",
       "      <td>8699.0</td>\n",
       "      <td>2013.0</td>\n",
       "      <td>52.0</td>\n",
       "      <td>8699.0</td>\n",
       "      <td>1.0</td>\n",
       "    </tr>\n",
       "  </tbody>\n",
       "</table>\n",
       "</div>\n",
       "      <button class=\"colab-df-convert\" onclick=\"convertToInteractive('df-b9883365-8503-4351-a58e-541c3b01bcd5')\"\n",
       "              title=\"Convert this dataframe to an interactive table.\"\n",
       "              style=\"display:none;\">\n",
       "        \n",
       "  <svg xmlns=\"http://www.w3.org/2000/svg\" height=\"24px\"viewBox=\"0 0 24 24\"\n",
       "       width=\"24px\">\n",
       "    <path d=\"M0 0h24v24H0V0z\" fill=\"none\"/>\n",
       "    <path d=\"M18.56 5.44l.94 2.06.94-2.06 2.06-.94-2.06-.94-.94-2.06-.94 2.06-2.06.94zm-11 1L8.5 8.5l.94-2.06 2.06-.94-2.06-.94L8.5 2.5l-.94 2.06-2.06.94zm10 10l.94 2.06.94-2.06 2.06-.94-2.06-.94-.94-2.06-.94 2.06-2.06.94z\"/><path d=\"M17.41 7.96l-1.37-1.37c-.4-.4-.92-.59-1.43-.59-.52 0-1.04.2-1.43.59L10.3 9.45l-7.72 7.72c-.78.78-.78 2.05 0 2.83L4 21.41c.39.39.9.59 1.41.59.51 0 1.02-.2 1.41-.59l7.78-7.78 2.81-2.81c.8-.78.8-2.07 0-2.86zM5.41 20L4 18.59l7.72-7.72 1.47 1.35L5.41 20z\"/>\n",
       "  </svg>\n",
       "      </button>\n",
       "      \n",
       "  <style>\n",
       "    .colab-df-container {\n",
       "      display:flex;\n",
       "      flex-wrap:wrap;\n",
       "      gap: 12px;\n",
       "    }\n",
       "\n",
       "    .colab-df-convert {\n",
       "      background-color: #E8F0FE;\n",
       "      border: none;\n",
       "      border-radius: 50%;\n",
       "      cursor: pointer;\n",
       "      display: none;\n",
       "      fill: #1967D2;\n",
       "      height: 32px;\n",
       "      padding: 0 0 0 0;\n",
       "      width: 32px;\n",
       "    }\n",
       "\n",
       "    .colab-df-convert:hover {\n",
       "      background-color: #E2EBFA;\n",
       "      box-shadow: 0px 1px 2px rgba(60, 64, 67, 0.3), 0px 1px 3px 1px rgba(60, 64, 67, 0.15);\n",
       "      fill: #174EA6;\n",
       "    }\n",
       "\n",
       "    [theme=dark] .colab-df-convert {\n",
       "      background-color: #3B4455;\n",
       "      fill: #D2E3FC;\n",
       "    }\n",
       "\n",
       "    [theme=dark] .colab-df-convert:hover {\n",
       "      background-color: #434B5C;\n",
       "      box-shadow: 0px 1px 3px 1px rgba(0, 0, 0, 0.15);\n",
       "      filter: drop-shadow(0px 1px 2px rgba(0, 0, 0, 0.3));\n",
       "      fill: #FFFFFF;\n",
       "    }\n",
       "  </style>\n",
       "\n",
       "      <script>\n",
       "        const buttonEl =\n",
       "          document.querySelector('#df-b9883365-8503-4351-a58e-541c3b01bcd5 button.colab-df-convert');\n",
       "        buttonEl.style.display =\n",
       "          google.colab.kernel.accessAllowed ? 'block' : 'none';\n",
       "\n",
       "        async function convertToInteractive(key) {\n",
       "          const element = document.querySelector('#df-b9883365-8503-4351-a58e-541c3b01bcd5');\n",
       "          const dataTable =\n",
       "            await google.colab.kernel.invokeFunction('convertToInteractive',\n",
       "                                                     [key], {});\n",
       "          if (!dataTable) return;\n",
       "\n",
       "          const docLinkHtml = 'Like what you see? Visit the ' +\n",
       "            '<a target=\"_blank\" href=https://colab.research.google.com/notebooks/data_table.ipynb>data table notebook</a>'\n",
       "            + ' to learn more about interactive tables.';\n",
       "          element.innerHTML = '';\n",
       "          dataTable['output_type'] = 'display_data';\n",
       "          await google.colab.output.renderOutput(dataTable, element);\n",
       "          const docLink = document.createElement('div');\n",
       "          docLink.innerHTML = docLinkHtml;\n",
       "          element.appendChild(docLink);\n",
       "        }\n",
       "      </script>\n",
       "    </div>\n",
       "  </div>\n",
       "  "
      ]
     },
     "metadata": {},
     "execution_count": 13
    }
   ]
  },
  {
   "cell_type": "code",
   "source": [
    "data.columns"
   ],
   "metadata": {
    "colab": {
     "base_uri": "https://localhost:8080/"
    },
    "id": "9CX11ZEmncMR",
    "outputId": "e9187056-9272-47af-c2a3-ad0f58fe8eea"
   },
   "execution_count": null,
   "outputs": [
    {
     "output_type": "execute_result",
     "data": {
      "text/plain": [
       "Index(['id', 'name', 'brand', 'categories', 'imageurls', 'style', 'quantities',\n",
       "       'sizes', '5_years_ago', '3_years_ago', '1 _year_ago', '3_months_ago',\n",
       "       '1_month_ago', 'corrent_price', 'data_start', 'earlier_sold',\n",
       "       'price next month', 'relevance'],\n",
       "      dtype='object')"
      ]
     },
     "metadata": {},
     "execution_count": 14
    }
   ]
  },
  {
   "cell_type": "code",
   "source": [
    "data.dtypes"
   ],
   "metadata": {
    "colab": {
     "base_uri": "https://localhost:8080/"
    },
    "id": "NLbI4KWun10f",
    "outputId": "48a8c93e-6909-4c07-977d-d81831186422"
   },
   "execution_count": null,
   "outputs": [
    {
     "output_type": "execute_result",
     "data": {
      "text/plain": [
       "id                  float64\n",
       "name                 object\n",
       "brand                object\n",
       "categories           object\n",
       "imageurls            object\n",
       "style                object\n",
       "quantities           object\n",
       "sizes                object\n",
       "5_years_ago         float64\n",
       "3_years_ago         float64\n",
       "1 _year_ago         float64\n",
       "3_months_ago        float64\n",
       "1_month_ago         float64\n",
       "corrent_price       float64\n",
       "data_start          float64\n",
       "earlier_sold        float64\n",
       "price next month    float64\n",
       "relevance           float64\n",
       "dtype: object"
      ]
     },
     "metadata": {},
     "execution_count": 15
    }
   ]
  },
  {
   "cell_type": "code",
   "source": [
    "data.isnull().sum()"
   ],
   "metadata": {
    "colab": {
     "base_uri": "https://localhost:8080/"
    },
    "id": "xfk5FyMOn9tn",
    "outputId": "8fd11467-b239-43e4-b93d-731e976e3c8c"
   },
   "execution_count": null,
   "outputs": [
    {
     "output_type": "execute_result",
     "data": {
      "text/plain": [
       "id                  0\n",
       "name                0\n",
       "brand               0\n",
       "categories          0\n",
       "imageurls           0\n",
       "style               0\n",
       "quantities          0\n",
       "sizes               0\n",
       "5_years_ago         0\n",
       "3_years_ago         0\n",
       "1 _year_ago         0\n",
       "3_months_ago        0\n",
       "1_month_ago         0\n",
       "corrent_price       0\n",
       "data_start          0\n",
       "earlier_sold        0\n",
       "price next month    0\n",
       "relevance           0\n",
       "dtype: int64"
      ]
     },
     "metadata": {},
     "execution_count": 16
    }
   ]
  },
  {
   "cell_type": "code",
   "source": [
    "import matplotlib.pyplot as plt\n",
    "import numpy as np\n",
    "import seaborn as sns\n",
    "from sklearn import tree\n",
    "\n",
    "%matplotlib inline\n",
    "from graphviz import Source\n",
    "from IPython.display import HTML, SVG, display"
   ],
   "metadata": {
    "id": "LE5-teTnoDLF"
   },
   "execution_count": null,
   "outputs": []
  },
  {
   "cell_type": "code",
   "source": [
    "X = data.loc[:, \"5_years_ago\":\"earlier_sold\"]  # На чём обучаем\n",
    "y = data.relevance  # Целевой столбец"
   ],
   "metadata": {
    "id": "O_fh4D7coZWz"
   },
   "execution_count": null,
   "outputs": []
  },
  {
   "cell_type": "code",
   "source": [
    "for x in data[\"relevance\"]:\n",
    "    x = str(x)\n",
    "    x = int(x[0])"
   ],
   "metadata": {
    "id": "kqvWmvJUqdfF"
   },
   "execution_count": null,
   "outputs": []
  },
  {
   "cell_type": "code",
   "source": [
    "for x in data[\"earlier sold\"]:\n",
    "    x = str(x)\n",
    "    x = int(x[0])"
   ],
   "metadata": {
    "id": "433W6Rt6rydp"
   },
   "execution_count": null,
   "outputs": []
  },
  {
   "cell_type": "code",
   "source": [
    "# Создаём классификатор\n",
    "clf = tree.DecisionTreeClassifier()\n",
    "\n",
    "# Обучаем\n",
    "clf = clf.fit(X, y)\n",
    "\n",
    "# Предсказываем\n",
    "# y_pred = clf.predict(X)"
   ],
   "metadata": {
    "id": "PubLOW27qBOu"
   },
   "execution_count": null,
   "outputs": []
  },
  {
   "cell_type": "code",
   "source": [
    "tree.plot_tree(clf)"
   ],
   "metadata": {
    "colab": {
     "base_uri": "https://localhost:8080/",
     "height": 578
    },
    "id": "cSezCMc1shvg",
    "outputId": "b454bf3d-d38c-43ff-f846-210c5c26e127"
   },
   "execution_count": null,
   "outputs": [
    {
     "output_type": "execute_result",
     "data": {
      "text/plain": [
       "[Text(0.5, 0.9285714285714286, 'X[6] <= 2013.5\\ngini = 0.269\\nsamples = 100\\nvalue = [84, 16]'),\n",
       " Text(0.3333333333333333, 0.7857142857142857, 'X[2] <= 28990.0\\ngini = 0.355\\nsamples = 13\\nvalue = [3, 10]'),\n",
       " Text(0.25, 0.6428571428571429, 'X[3] <= 7750.0\\ngini = 0.278\\nsamples = 12\\nvalue = [2, 10]'),\n",
       " Text(0.16666666666666666, 0.5, 'X[1] <= 5300.0\\ngini = 0.5\\nsamples = 4\\nvalue = [2, 2]'),\n",
       " Text(0.08333333333333333, 0.35714285714285715, 'gini = 0.0\\nsamples = 2\\nvalue = [0, 2]'),\n",
       " Text(0.25, 0.35714285714285715, 'gini = 0.0\\nsamples = 2\\nvalue = [2, 0]'),\n",
       " Text(0.3333333333333333, 0.5, 'gini = 0.0\\nsamples = 8\\nvalue = [0, 8]'),\n",
       " Text(0.4166666666666667, 0.6428571428571429, 'gini = 0.0\\nsamples = 1\\nvalue = [1, 0]'),\n",
       " Text(0.6666666666666666, 0.7857142857142857, 'X[6] <= 2018.5\\ngini = 0.128\\nsamples = 87\\nvalue = [81, 6]'),\n",
       " Text(0.5833333333333334, 0.6428571428571429, 'gini = 0.0\\nsamples = 73\\nvalue = [73, 0]'),\n",
       " Text(0.75, 0.6428571428571429, 'X[1] <= 4694.5\\ngini = 0.49\\nsamples = 14\\nvalue = [8, 6]'),\n",
       " Text(0.6666666666666666, 0.5, 'gini = 0.0\\nsamples = 3\\nvalue = [0, 3]'),\n",
       " Text(0.8333333333333334, 0.5, 'X[0] <= 15154.5\\ngini = 0.397\\nsamples = 11\\nvalue = [8, 3]'),\n",
       " Text(0.75, 0.35714285714285715, 'X[0] <= 11644.5\\ngini = 0.198\\nsamples = 9\\nvalue = [8, 1]'),\n",
       " Text(0.6666666666666666, 0.21428571428571427, 'gini = 0.0\\nsamples = 6\\nvalue = [6, 0]'),\n",
       " Text(0.8333333333333334, 0.21428571428571427, 'X[2] <= 12744.5\\ngini = 0.444\\nsamples = 3\\nvalue = [2, 1]'),\n",
       " Text(0.75, 0.07142857142857142, 'gini = 0.0\\nsamples = 1\\nvalue = [0, 1]'),\n",
       " Text(0.9166666666666666, 0.07142857142857142, 'gini = 0.0\\nsamples = 2\\nvalue = [2, 0]'),\n",
       " Text(0.9166666666666666, 0.35714285714285715, 'gini = 0.0\\nsamples = 2\\nvalue = [0, 2]')]"
      ]
     },
     "metadata": {},
     "execution_count": 22
    },
    {
     "output_type": "display_data",
     "data": {
      "text/plain": [
       "<Figure size 432x288 with 1 Axes>"
      ],
      "image/png": "[encoded data removed]"
     },
     "metadata": {
      "needs_background": "light"
     }
    }
   ]
  },
  {
   "cell_type": "code",
   "source": [
    "print(\"Accuracy on training set: {:.3f}\".format(clf.score(X, y)))"
   ],
   "metadata": {
    "colab": {
     "base_uri": "https://localhost:8080/"
    },
    "id": "tf_SBBFNs5fP",
    "outputId": "93759cb0-263c-4c44-9c56-ed4284a744a3"
   },
   "execution_count": null,
   "outputs": [
    {
     "output_type": "stream",
     "name": "stdout",
     "text": [
      "Accuracy on training set: 1.000\n"
     ]
    }
   ]
  },
  {
   "cell_type": "code",
   "source": [
    "X = data.loc[:, \"5_years_ago\":\"earlier_sold\"]\n",
    "\n",
    "clf = tree.DecisionTreeClassifier(criterion=\"entropy\")\n",
    "y = data.relevance\n",
    "clf.fit(X, y)\n",
    "tree.plot_tree(clf)\n",
    "print(\"Score\")\n",
    "clf.score(X, y)"
   ],
   "metadata": {
    "colab": {
     "base_uri": "https://localhost:8080/",
     "height": 283
    },
    "id": "3weRo_zWR9NA",
    "outputId": "8906f702-7703-4087-89b6-f3e69d154150"
   },
   "execution_count": null,
   "outputs": [
    {
     "output_type": "stream",
     "name": "stdout",
     "text": [
      "Score\n"
     ]
    },
    {
     "output_type": "execute_result",
     "data": {
      "text/plain": [
       "1.0"
      ]
     },
     "metadata": {},
     "execution_count": 24
    },
    {
     "output_type": "display_data",
     "data": {
      "text/plain": [
       "<Figure size 432x288 with 1 Axes>"
      ],
      "image/png": "[encoded data removed]"
     },
     "metadata": {
      "needs_background": "light"
     }
    }
   ]
  },
  {
   "cell_type": "code",
   "source": [
    "from sklearn.model_selection import train_test_split"
   ],
   "metadata": {
    "id": "bimO3LiVMCni"
   },
   "execution_count": null,
   "outputs": []
  },
  {
   "cell_type": "code",
   "source": [
    "data1 = pd.read_excel(\"/content/gdrive/MyDrive/ML/test.xlsx\")"
   ],
   "metadata": {
    "id": "fxXksT2RDu96"
   },
   "execution_count": null,
   "outputs": []
  },
  {
   "cell_type": "code",
   "source": [
    "X_train, X_test, y_train, y_test = train_test_split(X, y, test_size=0.3, random_state=1)\n",
    "\n",
    "clf = clf.fit(X_train, y_train)\n",
    "\n",
    "y_pred = clf.predict(X_test)"
   ],
   "metadata": {
    "id": "BQq4VqZNSv-8"
   },
   "execution_count": null,
   "outputs": []
  },
  {
   "cell_type": "code",
   "source": [
    "print(\"Accuracy on test set: {:.3f}\".format(clf.score(X_test, y_test)))"
   ],
   "metadata": {
    "colab": {
     "base_uri": "https://localhost:8080/"
    },
    "id": "z1Pir5M8S2JL",
    "outputId": "551b24bd-bcff-4980-ba41-ddf2ea1006bf"
   },
   "execution_count": null,
   "outputs": [
    {
     "output_type": "stream",
     "name": "stdout",
     "text": [
      "Accuracy on test set: 0.933\n"
     ]
    }
   ]
  },
  {
   "cell_type": "code",
   "source": [
    "print(\"Accuracy on test set: {:.3f}\".format(0.867))"
   ],
   "metadata": {
    "colab": {
     "base_uri": "https://localhost:8080/"
    },
    "id": "bu7Y2hMPGfvJ",
    "outputId": "c83f5586-b122-477a-8194-efd9b79e6381"
   },
   "execution_count": null,
   "outputs": [
    {
     "output_type": "stream",
     "name": "stdout",
     "text": [
      "Accuracy on test set: 0.867\n"
     ]
    }
   ]
  }
 ]
}
