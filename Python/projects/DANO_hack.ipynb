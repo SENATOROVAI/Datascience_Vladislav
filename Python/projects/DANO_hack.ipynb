{
 "nbformat": 4,
 "nbformat_minor": 0,
 "metadata": {
  "colab": {
   "provenance": [],
   "collapsed_sections": [],
   "mount_file_id": "1ZCX0YxPk7sG6D88Ibk9LFc_ySYaca1ii",
   "authorship_tag": "ABX9TyPV4/oee0QCu0OFkZJob1ug"
  },
  "kernelspec": {
   "name": "python3",
   "display_name": "Python 3"
  },
  "language_info": {
   "name": "python"
  }
 },
 "cells": [
  {
   "cell_type": "code",
   "source": [
    "from google.colab import drive\n",
    "\n",
    "drive.mount(\"/content/gdrive\")"
   ],
   "metadata": {
    "colab": {
     "base_uri": "https://localhost:8080/"
    },
    "id": "CygWIf_inNzc",
    "executionInfo": {
     "status": "ok",
     "timestamp": 1664710633698,
     "user_tz": -240,
     "elapsed": 6614,
     "user": {
      "displayName": "Матвей Апаркин",
      "userId": "01669805626819938939"
     }
    },
    "outputId": "5aa5d635-a892-4768-992c-844cffa15af1"
   },
   "execution_count": 105,
   "outputs": [
    {
     "output_type": "stream",
     "name": "stdout",
     "text": [
      "Mounted at /content/gdrive\n"
     ]
    }
   ]
  },
  {
   "cell_type": "code",
   "source": [
    "!ls /content/gdrive/MyDrive/"
   ],
   "metadata": {
    "id": "h_JUOi-8nP-v"
   },
   "execution_count": null,
   "outputs": []
  },
  {
   "cell_type": "code",
   "execution_count": null,
   "metadata": {
    "id": "2vYp6pw2mEpm"
   },
   "outputs": [],
   "source": [
    "import pandas as pd\n",
    "\n",
    "data_frame = pd.read_excel(\"/content/gdrive/MyDrive/normal_data.xlsx\")\n",
    "data_frame"
   ]
  },
  {
   "cell_type": "code",
   "source": [
    "import numpy as np\n",
    "from matplotlib import pyplot as plt"
   ],
   "metadata": {
    "id": "S3nw1ssXm4FC",
    "executionInfo": {
     "status": "ok",
     "timestamp": 1664710639055,
     "user_tz": -240,
     "elapsed": 419,
     "user": {
      "displayName": "Матвей Апаркин",
      "userId": "01669805626819938939"
     }
    }
   },
   "execution_count": 107,
   "outputs": []
  },
  {
   "cell_type": "code",
   "source": [
    "k = 0\n",
    "for i in set(data_frame[\"genres\"]):\n",
    "    k += 1\n",
    "data_frame_set = set(data_frame[\"genres\"]) - {\n",
    "    \"детские\",\n",
    "    \"детские песни\",\n",
    "    \"для детей\",\n",
    "    \"мультфильм\",\n",
    "    \"русские мультфильмы\",\n",
    "    \"мультфильмы\",\n",
    "    \"мультсериалы\",\n",
    "}\n",
    "print(data_frame_set)"
   ],
   "metadata": {
    "colab": {
     "base_uri": "https://localhost:8080/"
    },
    "id": "ahndCSx9qoGt",
    "executionInfo": {
     "status": "ok",
     "timestamp": 1664710640221,
     "user_tz": -240,
     "elapsed": 15,
     "user": {
      "displayName": "Матвей Апаркин",
      "userId": "01669805626819938939"
     }
    },
    "outputId": "f7eba889-8842-4e0e-ff96-2bb2eca20622"
   },
   "execution_count": 108,
   "outputs": [
    {
     "output_type": "stream",
     "name": "stdout",
     "text": [
      "{'мистика', 'футбол', 'короткометражные', 'развитие', 'юмор', 'аниме', 'русские', 'тележурналы', 'музыкальные', 'концерт', 'вокруг света', 'детективы', 'мюзиклы', 'вестерн', 'фантастика', 'спорт', 'развлекательные', 'телешоу', 'зарубежные', 'биография', 'катастрофы', 'про животных', 'боевики', 'фитнес', 'документальное', 'семейное', 'криминал', 'исторические', 'реалити', 'стендап', 'мелодрамы', 'фильмы', 'фэнтези', 'драмы', 'научно-популярные', 'ужасы', 'военные', 'триллеры', 'для взрослых', 'дорамы', 'единоборства', 'экранизации', 'полнометражные', 'шоу', 'популярное', 'приключения', 'музыка', 'фильмы hbo', 'ток-шоу', 'историческое', 'советские', 'комедии', 'короткий метр', 'no_genre', 'кулинария'}\n"
     ]
    }
   ]
  },
  {
   "cell_type": "code",
   "source": [
    "# -*- coding: utf-8 -*-\n",
    "dict_age_plus_sex = dict()\n",
    "for i in data_frame.index:\n",
    "    if data_frame[\"kids_flg\"][i] == \"0\" or data_frame[\"genres\"][i] in data_frame_set:\n",
    "        \"\"\"print((data_frame['age'][i]+'/'+data_frame['sex'][i]))\"\"\"\n",
    "        if (\n",
    "            str(data_frame[\"age\"][i]) is not None\n",
    "            and str(data_frame[\"sex\"][i]) is not None\n",
    "        ):\n",
    "            if (\n",
    "                dict_age_plus_sex.get(\n",
    "                    data_frame[\"age\"][i] + \"/\" + data_frame[\"sex\"][i], []\n",
    "                )\n",
    "                != []\n",
    "            ):\n",
    "                dict_age_plus_sex[\n",
    "                    (data_frame[\"age\"][i] + \"/\" + data_frame[\"sex\"][i])\n",
    "                ].append(data_frame[\"genres\"][i])\n",
    "            else:\n",
    "                dict_age_plus_sex[\n",
    "                    (data_frame[\"age\"][i] + \"/\" + data_frame[\"sex\"][i])\n",
    "                ] = [data_frame[\"genres\"][i]]\n",
    "# print(dict_age_plus_sex)\n",
    "for i in dict_age_plus_sex.keys():\n",
    "    q = list(dict_age_plus_sex[i])\n",
    "    local_dict = dict()\n",
    "    for j in q:\n",
    "        local_dict[j] = local_dict.get(j, 0) + 1\n",
    "    dict_age_plus_sex[i] = local_dict\n",
    "# print(dict_age_plus_sex)\n",
    "secondtab = open(\"2nd.txt\", \"w\")\n",
    "# for i in dict_age_plus_sex.keys():\n",
    "# print(i,sorted(dict_age_plus_sex[i].items(),key = lambda x: x[1],reverse=True))\n",
    "for i in dict_age_plus_sex.keys():\n",
    "    secondtab.write(str(i) + \": \" + str(dict(dict_age_plus_sex[i])))\n",
    "    # secondtab.write(str(i)+' '+ str(sorted(dict_age_plus_sex[i].items(),key = lambda x: x[1],reverse=True))+'\\n')"
   ],
   "metadata": {
    "id": "XRMuRjRG7RWY",
    "executionInfo": {
     "status": "ok",
     "timestamp": 1664710649464,
     "user_tz": -240,
     "elapsed": 5567,
     "user": {
      "displayName": "Матвей Апаркин",
      "userId": "01669805626819938939"
     }
    }
   },
   "execution_count": 109,
   "outputs": []
  },
  {
   "cell_type": "code",
   "source": [
    "dict_time = dict()\n",
    "for i in data_frame.index:\n",
    "    # print(i,df['watched_pct'][i])\n",
    "    if str(data_frame[\"watched_pct\"][i]) is not None:\n",
    "        if int(data_frame[\"watched_pct\"][i]) != 0:\n",
    "            dict_time[data_frame[\"title\"][i]] = min(\n",
    "                dict_time.get(data_frame[\"title\"][i], 9999999999),\n",
    "                int(data_frame[\"total_dur\"][i])\n",
    "                / int(data_frame[\"watched_pct\"][i])\n",
    "                * 100,\n",
    "            )\n",
    "time_file = open(\"time_file.txt\", \"w\")\n",
    "for i in dict_time.keys():\n",
    "    # print(i,dict_time[i])\n",
    "    time_file.write(str(i) + \"@\" + str(dict_time[i]) + \"\\n\")"
   ],
   "metadata": {
    "id": "2MQ_08QDPw-B",
    "executionInfo": {
     "status": "ok",
     "timestamp": 1664706191129,
     "user_tz": -240,
     "elapsed": 3661,
     "user": {
      "displayName": "Матвей Апаркин",
      "userId": "01669805626819938939"
     }
    }
   },
   "execution_count": 97,
   "outputs": []
  },
  {
   "cell_type": "code",
   "source": [
    "from math import *\n",
    "\n",
    "\n",
    "def sigmoid(k):\n",
    "    return 1 / (1 + e ** ((-k + 0.8) / 1.5)) - 0.5\n",
    "\n",
    "\n",
    "dict_sigmoid_per_title = dict()\n",
    "for i in data_frame.index:\n",
    "    if int(data_frame[\"watched_pct\"][i]) >= 90:\n",
    "        k = data_frame[\"total_dur\"][i] / dict_time[data_frame[\"title\"][i]]\n",
    "    else:\n",
    "        k = int(data_frame[\"watched_pct\"][i]) / 100\n",
    "    dict_sigmoid_per_title[data_frame[\"title\"][i]] = dict_sigmoid_per_title.get(\n",
    "        data_frame[\"title\"][i], 0\n",
    "    ) + sigmoid(k)\n",
    "f = open(\"sigmoid_titles.txt\", \"w\")\n",
    "for i in sorted(dict_sigmoid_per_title.items(), key=lambda x: x[1], reverse=True):\n",
    "    f.write(str(i[0]) + \"@\" + str(i[1]) + \"\\n\")\n",
    "\n",
    "dict_klaster_sigmoid = dict()\n",
    "klaster_set = [\n",
    "    \"age_25_34/Ж\",\n",
    "    \"age_35_44/М\",\n",
    "    \"age_25_34/М\",\n",
    "    \"age_45_54/М\",\n",
    "    \"age_18_24/Ж\",\n",
    "    \"age_55_64/М\",\n",
    "    \"age_45_54/Ж\",\n",
    "    \"age_35_44/Ж\",\n",
    "    \"age_18_24/М\",\n",
    "    \"age_55_64/Ж\",\n",
    "    \"age_65_inf/Ж\",\n",
    "    \"age_65_inf/М\",\n",
    "]\n",
    "for klaster_now in klaster_set:\n",
    "    local_klaster_sigmoid = dict()\n",
    "    for i in data_frame.index:\n",
    "        if data_frame[\"age\"][i] + \"/\" + data_frame[\"sex\"][i] == klaster_now:\n",
    "            if int(data_frame[\"watched_pct\"][i]) >= 90:\n",
    "                k = data_frame[\"total_dur\"][i] / dict_time[data_frame[\"title\"][i]]\n",
    "            else:\n",
    "                k = int(data_frame[\"watched_pct\"][i]) / 100\n",
    "            local_klaster_sigmoid[data_frame[\"title\"][i]] = local_klaster_sigmoid.get(\n",
    "                data_frame[\"title\"][i], 0\n",
    "            ) + sigmoid(k)\n",
    "    print(local_klaster_sigmoid)\n",
    "    dict_klaster_sigmoid[klaster_now] = local_klaster_sigmoid\n",
    "klaster_sigmoid_title = open(\"klaster_sigoid.txt\", \"w\")\n",
    "for i in dict_klaster_sigmoid.keys():\n",
    "    klaster_sigmoid_title.write(str(i) + \":\" + str(dict_klaster_sigmoid[i]) + \"\\n\")"
   ],
   "metadata": {
    "id": "x86mF4wAvOUO"
   },
   "execution_count": null,
   "outputs": []
  },
  {
   "cell_type": "code",
   "source": [
    "krasaucheg = open(\"ura.txt\", \"w\")\n",
    "for i in dict_klaster_sigmoid.keys():\n",
    "    krasaucheg.write(str(i) + \"\\n\")\n",
    "    local_cal = dict_klaster_sigmoid[i]\n",
    "    for j in sorted(local_cal.items(), key=lambda x: x[1], reverse=True):\n",
    "        krasaucheg.write(str(j[0]) + \":\" + str(j[1]) + \" \")\n",
    "    krasaucheg.write(\"\\n\")\n",
    "top10_file = open(\"top10.txt\", \"w\")\n",
    "for i in dict_klaster_sigmoid.keys():\n",
    "    local_cal = dict_klaster_sigmoid[i]\n",
    "    top10_file.write(str(i) + \"\\n\")\n",
    "    check = 0\n",
    "    for j in sorted(local_cal.items(), key=lambda x: x[1], reverse=True):\n",
    "        top10_file.write(str(j[0]) + \":\" + str(j[1]) + \"\\n\")\n",
    "        check += 1\n",
    "        if check == 20:\n",
    "            check = 0\n",
    "            break\n",
    "    top10_file.write(\"\\n\")"
   ],
   "metadata": {
    "id": "cOADb-3xvz7Z",
    "executionInfo": {
     "status": "ok",
     "timestamp": 1664710626040,
     "user_tz": -240,
     "elapsed": 903,
     "user": {
      "displayName": "Матвей Апаркин",
      "userId": "01669805626819938939"
     }
    }
   },
   "execution_count": 104,
   "outputs": []
  },
  {
   "cell_type": "code",
   "source": [
    "\"\"\"set_title=set()\n",
    "for i in data_frame['title']:\n",
    "  set_title.add(i)\n",
    "kinopoisk = pd.read_excel('/content/gdrive/MyDrive/kinopoisk.ru-query.xlsx')\n",
    "for i in kinopoisk['Название']:\n",
    "  if i in set_title:\n",
    "    print(i) \"\"\""
   ],
   "metadata": {
    "id": "yAv9GiH-9jBL"
   },
   "execution_count": null,
   "outputs": []
  },
  {
   "cell_type": "code",
   "source": [
    "dict_klaster_title = dict()\n",
    "for i in data_frame.index:\n",
    "    kluch = data_frame[\"age\"][i] + \"/\" + data_frame[\"sex\"][i]\n",
    "    dict_klaster_title[kluch] = dict_klaster_title.get(kluch, []) + [\n",
    "        data_frame[\"title\"][i]\n",
    "    ]\n",
    "print(dict_klaster_title.keys())\n",
    "for i in dict_klaster_title.keys():\n",
    "    local_dict = dict()\n",
    "    for j in dict_klaster_title[i]:\n",
    "        local_dict[j] = local_dict.get(j, 0) + 1\n",
    "    dict_klaster_title[i] = local_dict\n",
    "klaster_file = open(\"klaster_file.txt\", \"w\")\n",
    "for i in dict_klaster_title.items():\n",
    "    klaster_file.write(str(i[0]) + \":\" + str(i[1]) + \"\\n\")"
   ],
   "metadata": {
    "id": "_htKw6LNNVY4"
   },
   "execution_count": null,
   "outputs": []
  }
 ]
}
