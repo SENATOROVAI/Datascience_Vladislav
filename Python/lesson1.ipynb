{
 "cells": [
  {
   "cell_type": "code",
   "execution_count": null,
   "metadata": {},
   "outputs": [],
   "source": [
    "\"\"\"Module1.\"\"\""
   ]
  },
  {
   "cell_type": "code",
   "execution_count": null,
   "metadata": {},
   "outputs": [],
   "source": [
    "# flake8, pylint - это линтер\n",
    "# Линтер - это инструмент анализирующий синтаксические ошибки\n",
    "# согласно pep8\n",
    "# pep8 - это рекомендация по стилю и синтаксису на python\n",
    "# Black (hot key - alt+shift+F) - это инструмент автоформатирования\n",
    "# кода по линтеру"
   ]
  },
  {
   "cell_type": "code",
   "execution_count": null,
   "metadata": {},
   "outputs": [],
   "source": [
    "numbers = 1 + 1"
   ]
  }
 ],
 "metadata": {
  "language_info": {
   "name": "python"
  }
 },
 "nbformat": 4,
 "nbformat_minor": 2
}
